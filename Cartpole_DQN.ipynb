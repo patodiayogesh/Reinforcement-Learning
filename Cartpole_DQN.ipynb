{
 "cells": [
  {
   "cell_type": "markdown",
   "metadata": {
    "id": "dCn5gK-8Qhtz",
    "pycharm": {
     "name": "#%% md\n"
    }
   },
   "source": [
    "#  Instruction\n",
    "\n",
    "In this notebook, we will learn how to implement DQN using Tensorflow for the [Cartpole environment in OpenAI gym](https://gym.openai.com/envs/CartPole-v0/). You are given a basic skeleton but you need to complete the code where appropriate to solve the cartpole problem.\n",
    "\n",
    "You are free to tweak the code at any part. Your are also free to tweak the hyper-parameters to improve the performance of the agent. At the end you have to evaluate the performance of the agent on 100 independent episodes on the environment and print out the average testing performance.\n",
    "\n",
    "Make sure that your final submission is a notebook that can be run from beginning to end, and that you print out the performance of the agent at the end of the notebook."
   ]
  },
  {
   "cell_type": "markdown",
   "metadata": {
    "collapsed": false,
    "id": "D4dEq-Lc327u",
    "pycharm": {
     "name": "#%% md\n"
    }
   },
   "source": [
    "YP2607\n",
    "\n",
    "Utilizing my late days for the assignment"
   ]
  },
  {
   "cell_type": "code",
   "execution_count": 1,
   "metadata": {
    "id": "7-Vo-FNPRX9V",
    "pycharm": {
     "name": "#%%\n"
    }
   },
   "outputs": [],
   "source": [
    "import tensorflow as tf\n",
    "from collections import deque\n",
    "import numpy as np\n",
    "%matplotlib inline\n",
    "import matplotlib\n",
    "import matplotlib.pyplot as plt\n",
    "import gym\n",
    "from tensorflow import keras\n",
    "from tensorflow.keras import layers\n",
    "import random"
   ]
  },
  {
   "cell_type": "code",
   "execution_count": 2,
   "metadata": {
    "id": "hZNKbkOPTeLs",
    "pycharm": {
     "name": "#%%\n"
    }
   },
   "outputs": [],
   "source": [
    "# Parameters\n",
    "gamma = 0.99  # discount \n",
    "envname = \"CartPole-v0\"  # environment name\n",
    "env = gym.make(envname)\n",
    "obssize = env.observation_space.low.size\n",
    "actsize = env.action_space.n"
   ]
  },
  {
   "cell_type": "markdown",
   "metadata": {
    "id": "GujIeXW2RulT",
    "pycharm": {
     "name": "#%% md\n"
    }
   },
   "source": [
    "## DQN (Deep Q Network)\n",
    "\n",
    "In previous HWs, we have learned to use Tensorflow to build deep learning models. In this HW, we will apply deep learning as function approximations in reinforcement learning. \n",
    "\n",
    "Reference: DQN https://arxiv.org/abs/1312.5602\n",
    "\n",
    "\n",
    "In tabular Q-learning, we maintain a table of state-action pairs $(s,a)$ and save one action value for each entry $Q(s,a),\\forall (s,a)$. At each time step $t$, we are in state $s_t$, then we choose action based on $\\epsilon-$greedy strategy. With prob $\\epsilon$, choose action uniformly random; with prob $1-\\epsilon$, choose action based on $$a_t = \\arg\\max_a Q(s_t,a)$$ \n",
    "\n",
    "We then get the instant reward $r_t$, update the Q-table using the following rule\n",
    "\n",
    "$$Q(s_t,a_t) \\leftarrow (1-\\alpha)Q(s_t,a_t) + \\alpha (r_t + \\max_a \\gamma Q(s_{t+1},a))$$\n",
    "\n",
    "where $\\alpha \\in (0,1)$ is learning rate. The algorithm is shown to converge in tabular cases. However, in cases where we cannot keep a table for state and action, we need function approximation. Consider using neural network with parameter $\\theta$, the network takes as input state $s$ and action $a$. (*or some features of state and action*). Let $Q_\\theta(s,a)$ be the output of the network, which estimates the optimal Q-value function for state $s$ and action $a$.\n",
    "$$Q_\\theta(s,a) \\approx Q^\\ast(s,a)$$"
   ]
  },
  {
   "cell_type": "code",
   "execution_count": 3,
   "metadata": {
    "id": "494xoDa8SLHG",
    "pycharm": {
     "name": "#%%\n"
    }
   },
   "outputs": [],
   "source": [
    "def model_creator():\n",
    "    model = keras.Sequential()\n",
    "    model.add(layers.Dense(32,activation=\"relu\",kernel_initializer='he_uniform'))\n",
    "    # you should later modify this neural network\n",
    "    model.add(layers.Dense(32,activation=\"relu\",kernel_initializer='he_uniform'))\n",
    "    model.add(layers.Dense(32,activation=\"relu\",kernel_initializer='he_uniform'))\n",
    "    model.add(layers.Dense(32,activation=\"relu\",kernel_initializer='he_uniform'))\n",
    "    model.add(layers.Dense(actsize,activation=\"linear\")) # you should have one output for each possible action\n",
    "    return model"
   ]
  },
  {
   "cell_type": "markdown",
   "metadata": {
    "id": "a9BlBZLeSh2f",
    "pycharm": {
     "name": "#%% md\n"
    }
   },
   "source": [
    "We wish to train the neural network in order to find $\\theta$ such that $Q_\\theta(s,a)$ approximates $Q^*(s,a)$. As we discussed in the class, we can use observations of form $(s_i, a_i, r_i, s'_{i})$ (i.e., observing reward $r_i$ and new state $s'_{i}$ on taking action $a_i$ in state $s_i$) for training. Based on observations, we can use stochastic gradient descent to update $\\theta$ in the direction that minimizes the loss function. Further, based on values $Q_\\theta(s,a)$, we can choose the action based on $\\epsilon$-greedy policy."
   ]
  },
  {
   "cell_type": "markdown",
   "metadata": {
    "id": "bHaI6w4BSc3Q",
    "pycharm": {
     "name": "#%% md\n"
    }
   },
   "source": [
    "Formally let $d_i$ be the target for the $i$-th sample $(s_t,a_t,r_t,s_{t+1})$\n",
    "\n",
    "$$d_i =  r_t +   \\gamma \\max_a Q_\\theta(s_{t+1},a)$$\n",
    "\n",
    "We can collect a batch of $N$ samples (this generalizes the per sample update $N=1$ discusssed in class), consider the loss fucntion,\n",
    "\n",
    "$$J:=\\frac{1}{N} \\sum_{i=1}^N (Q_\\theta(s_i,a_i) - d_i)^2$$\n",
    "\n",
    "and update\n",
    "\n",
    "$$\n",
    "\\theta \\leftarrow \\theta -\\alpha \\nabla_\\theta J\n",
    "$$\n",
    "\n",
    "This procedure has been shown to be fairly unstable. In class, we discussed two techniques to stabilize the training process: target network and replay buffer.\n",
    "\n",
    "**Replay Buffer**\n",
    "Maintain a buffer $R$ to store trainsition tuples $(s_t,a_t,r_t,s_{t+1})$. When minimizing the loss, we sample batches from the replay buffer and compute gradients for update on these batches. In particular, in each update, we sample $N$ tuples $(s_t,a_t,r_t,s_{t+1})$ from buffer $R$ and then minimize the\n",
    "loss \n",
    "\n",
    "$$\\frac{1}{N} \\sum_{i=1}^N (Q_\\theta(s_i,a_i) -  (r_i + \\gamma \\max_a Q_\\theta(s_i^\\prime,a))^2$$\n",
    "\n",
    "and update parameters.\n",
    "\n",
    "**Target Network**\n",
    "Maintain a target network in addition to the original principal network. The target network is just a copy of the original network but the parameters are not updated by gradients. The target network $\\theta^{-}$ is copied from the principal network every $\\tau$ time steps. Target network is used to compute the targets for update\n",
    "\n",
    "$$d_i = \\max_a r_t + \\gamma Q_{\\theta^{-}}(s_{i}^\\prime,a)$$\n",
    "\n",
    "the targets are used in the loss function to update the principal network parameters. This slowly updated target network ensures that the targets come from a relatively stationary distribution and hence stabilize learning."
   ]
  },
  {
   "cell_type": "code",
   "execution_count": 4,
   "metadata": {
    "id": "WKt2Mt6TTZsk",
    "pycharm": {
     "name": "#%%\n"
    }
   },
   "outputs": [],
   "source": [
    "batch_size = 32\n",
    "# Model used for selecting actions (principal)\n",
    "model = model_creator()\n",
    "# Then create the target model. This will periodically be copied from the principal network \n",
    "model_target = model_creator()\n",
    "\n",
    "model.build((batch_size,obssize,))\n",
    "model_target.build((batch_size,obssize,))"
   ]
  },
  {
   "cell_type": "markdown",
   "metadata": {
    "id": "0JA7a0AXiVO7",
    "pycharm": {
     "name": "#%% md\n"
    }
   },
   "source": [
    "- Complete the code below to learn an Agent using DQN. \n",
    "- You should tweak the Neural network appropriately to achieve a good reward (>100). Ideally you would want to have a reward close to 200.\n",
    "- The reference paper performs updates every 4 actions. You can experiment with this parameter to speed up the learning\n",
    "- You can experiment with other parameters as well, like learning rate, memory size, different exploration schemes (e.g., adaptive $\\epsilon$ or strategic explorations with bonus rewards) and others.\n",
    "\n",
    "- As we mentioned in class, there are multiple ways to improve the efficiency even further. OPTIONALLY you can experiment with these:\n",
    "  - Prioritized Replay buffer.\n",
    "  - Double DQN \n",
    "  -Dueling DQN architecture.\n",
    "\n",
    "- In case you need to debug your code you can try printing relevant information as the training happens. For example although the performance might vary from iteration to iteration, the average Q values might increase overtime in a more smooth way. This is discussed in the refernece paper\n",
    "\n",
    "- Create a plot of the running reward sampled throughout the training at the frequency of your choice at the end of the training\n",
    "- OPTIONALLY you can create a plot for the average Q-values of the principal Q-network sampled at the frequency of your choice\n",
    "\n",
    "- Ideally you want to learn with as few episodes as possible. However you will not be graded on sample efficiency in this homework. You encouraged to try to learn efficiently though.\n",
    "\n",
    "- Note that the skeleton code includes the GradientTape construct to do the learning. Take a look [here](https://www.tensorflow.org/api_docs/python/tf/GradientTape) for an explanation of GradientTape. It allows for more flexibility than model.fit. Also it uses Adam (Adaptive Moment Estimation) for Stochastic Gradient Descent optimizer. "
   ]
  },
  {
   "cell_type": "code",
   "execution_count": 5,
   "metadata": {
    "colab": {
     "base_uri": "https://localhost:8080/"
    },
    "id": "Kn81y4Iz_QlJ",
    "outputId": "001f512b-15ee-419e-d2be-3893e77436c7",
    "pycharm": {
     "name": "#%%\n"
    }
   },
   "outputs": [
    {
     "output_type": "stream",
     "name": "stdout",
     "text": [
      "running reward: 12.76 at episode 49, frame count 1000, epsilon 0.9099999999999655\n",
      "running reward: 13.05 at episode 97, frame count 2000, epsilon 0.819999999999931\n",
      "running reward: 13.74 at episode 138, frame count 3000, epsilon 0.7299999999998965\n",
      "running reward: 13.73 at episode 188, frame count 4000, epsilon 0.639999999999862\n",
      "running reward: 13.92 at episode 232, frame count 5000, epsilon 0.5499999999998275\n",
      "running reward: 15.99 at episode 275, frame count 6000, epsilon 0.4599999999998177\n",
      "running reward: 21.71 at episode 285, frame count 7000, epsilon 0.36999999999983874\n",
      "running reward: 28.39 at episode 293, frame count 8000, epsilon 0.27999999999985975\n",
      "running reward: 32.14 at episode 301, frame count 9000, epsilon 0.18999999999986225\n",
      "running reward: 35.85 at episode 309, frame count 10000, epsilon 0.1\n",
      "running reward: 40.68 at episode 315, frame count 11000, epsilon 0.1\n",
      "running reward: 44.51 at episode 321, frame count 12000, epsilon 0.1\n",
      "running reward: 48.19 at episode 326, frame count 13000, epsilon 0.1\n",
      "running reward: 51.74 at episode 331, frame count 14000, epsilon 0.1\n",
      "running reward: 53.13 at episode 338, frame count 15000, epsilon 0.1\n",
      "running reward: 54.82 at episode 345, frame count 16000, epsilon 0.1\n",
      "running reward: 56.27 at episode 352, frame count 17000, epsilon 0.1\n",
      "running reward: 58.17 at episode 358, frame count 18000, epsilon 0.1\n",
      "running reward: 59.43 at episode 364, frame count 19000, epsilon 0.1\n",
      "running reward: 59.99 at episode 373, frame count 20000, epsilon 0.1\n",
      "running reward: 60.89 at episode 389, frame count 22000, epsilon 0.1\n",
      "running reward: 61.38 at episode 396, frame count 23000, epsilon 0.1\n",
      "running reward: 62.41 at episode 402, frame count 24000, epsilon 0.1\n",
      "running reward: 63.97 at episode 407, frame count 25000, epsilon 0.1\n",
      "running reward: 65.21 at episode 412, frame count 26000, epsilon 0.1\n",
      "running reward: 65.92 at episode 418, frame count 27000, epsilon 0.1\n",
      "running reward: 66.69 at episode 424, frame count 28000, epsilon 0.1\n",
      "running reward: 67.18 at episode 431, frame count 29000, epsilon 0.1\n",
      "running reward: 67.80 at episode 436, frame count 30000, epsilon 0.1\n",
      "running reward: 68.63 at episode 442, frame count 31000, epsilon 0.1\n",
      "running reward: 69.27 at episode 448, frame count 32000, epsilon 0.1\n",
      "running reward: 69.49 at episode 455, frame count 33000, epsilon 0.1\n",
      "running reward: 69.77 at episode 461, frame count 34000, epsilon 0.1\n",
      "running reward: 70.11 at episode 468, frame count 35000, epsilon 0.1\n",
      "running reward: 70.04 at episode 475, frame count 36000, epsilon 0.1\n",
      "running reward: 70.14 at episode 482, frame count 37000, epsilon 0.1\n",
      "running reward: 70.13 at episode 490, frame count 38000, epsilon 0.1\n",
      "running reward: 70.23 at episode 497, frame count 39000, epsilon 0.1\n"
     ]
    }
   ],
   "source": [
    "# lr_schedule = tf.keras.optimizers.schedules.ExponentialDecay(\n",
    "#     0.01,\n",
    "#     decay_steps=1,\n",
    "#     decay_rate=0.5)\n",
    "tf.random.set_seed(42)\n",
    "lr_schedule=0.0005\n",
    "optimizer = keras.optimizers.Adam(learning_rate=lr_schedule)#0.0005)\n",
    "\n",
    "# Our Experience Replay memory \n",
    "action_history = []\n",
    "state_history = []\n",
    "state_next_history = []\n",
    "rewards_history = []\n",
    "done_history = []\n",
    "episode_reward_history = []\n",
    "\n",
    "# Replay memory size\n",
    "max_memory = 1000 # You can experiment with different sizes.\n",
    "\n",
    "running_reward = 0\n",
    "episode_count = 0\n",
    "timestep_count = 0\n",
    "\n",
    "\n",
    "# how often to train your model - this allows you to speed up learning\n",
    "# by not performing in every iteration learning. See also refernece paper\n",
    "# you can set this value to other values like 1 as well to learn every time \n",
    "\n",
    "update_after_actions = 4\n",
    "\n",
    "# How often to update the target network\n",
    "target_update_every = 1000\n",
    "loss_function = keras.losses.Huber() # You can use the Huber loss function or the mean squared error function \n",
    "max_steps_per_episode = 1000\n",
    "\n",
    "max_episodes = 500\n",
    "max_steps_per_episode = 1000\n",
    "last_n_reward = 100\n",
    "\n",
    "epsilon_max = 1.0\n",
    "epsilon_min = 0.1\n",
    "eps_interval = epsilon_max - epsilon_min\n",
    "epsilon = 1.0\n",
    "penalty = 1.0\n",
    "\n",
    "plot_x = []\n",
    "plot_y = []\n",
    "\n",
    "for episode in range(max_episodes):\n",
    "    state = np.array(env.reset())\n",
    "    episode_reward = 0\n",
    "\n",
    "    for timestep in range(1, max_steps_per_episode):\n",
    "        timestep_count += 1\n",
    "\n",
    "        # exploration\n",
    "        prob = np.random.random()\n",
    "        if timestep_count<5000 or prob < epsilon:\n",
    "            action = np.random.choice(actsize)\n",
    "        else:\n",
    "            # Predict action Q-values\n",
    "            # From environment state\n",
    "            state_t = tf.convert_to_tensor(state)\n",
    "            state_t = tf.expand_dims(state_t, 0)\n",
    "            action_vals = model(state_t, training=False)\n",
    "            # Choose the best action\n",
    "            action = tf.argmax(action_vals[0]).numpy()\n",
    "\n",
    "        epsilon -= eps_interval / 10000\n",
    "        epsilon = max(epsilon, epsilon_min)\n",
    "\n",
    "        # follow selected action\n",
    "        state_next, reward, done, _ = env.step(action)\n",
    "        state_next = np.array(state_next)\n",
    "        episode_reward += reward\n",
    "\n",
    "        # Save action/states and other information in replay buffer\n",
    "        action_history.append(action)\n",
    "        state_history.append(state)\n",
    "        state_next_history.append(state_next)\n",
    "        rewards_history.append(reward)\n",
    "        done_history.append(done)\n",
    "        episode_reward_history.append(episode_reward)\n",
    "\n",
    "        state = state_next\n",
    "\n",
    "        # Update every Xth frame to speed up (optional)\n",
    "        # and if you have sufficient history\n",
    "        if timestep_count % update_after_actions == 0 and len(action_history) > batch_size:\n",
    "\n",
    "            #  Sample a set of batch_size memories from the history\n",
    "            sample_indices = random.choices(range(len(action_history)), k=batch_size)\n",
    "            state_sample = np.array([state_history[i] for i in sample_indices])\n",
    "            state_next_sample = np.array([state_next_history[i] for i in sample_indices])\n",
    "            rewards_sample = np.array([rewards_history[i] for i in sample_indices])\n",
    "            action_sample = np.array([action_history[i] for i in sample_indices])\n",
    "            done_sample = np.array([done_history[i] for i in sample_indices])\n",
    "\n",
    "            # Create for the sample states the targets (r+gamma * max Q(...) )\n",
    "            Q_next_state = tf.reduce_max(model_target.predict(state_next_sample), axis=1)\n",
    "            Q_targets = rewards_sample + gamma * Q_next_state\n",
    "            \n",
    "\n",
    "            # If the episode was ended (done_sample value is 1)\n",
    "            # you can penalize the Q value of the target by some value `penalty`\n",
    "            Q_targets = Q_targets * (1 - done_sample) - penalty*done_sample\n",
    "\n",
    "            # What actions are relevant and need updating\n",
    "            relevant_actions = tf.one_hot(action_sample, actsize)\n",
    "            # we will use Gradient tape to do a custom gradient \n",
    "            # in the `with` environment we will record a set of operations\n",
    "            # and then we will take gradients with respect to the trainable parameters\n",
    "            # in the neural network\n",
    "            with tf.GradientTape() as tape:\n",
    "                # Train the model on your action selecting network\n",
    "                q_values = model(state_sample) \n",
    "                # We consider only the relevant actions\n",
    "                Q_of_actions = tf.reduce_sum(tf.multiply(q_values, relevant_actions), axis=1)\n",
    "                # Calculate loss between principal network and target network\n",
    "                loss = loss_function(Q_targets, Q_of_actions)\n",
    "\n",
    "            # Nudge the weights of the trainable variables towards \n",
    "            grads = tape.gradient(loss, model.trainable_variables)\n",
    "            optimizer.apply_gradients(zip(grads, model.trainable_variables))\n",
    "\n",
    "        if timestep_count % target_update_every == 0:\n",
    "            # update the the target network with new weights\n",
    "            model_target.set_weights(model.get_weights())\n",
    "            # Log details\n",
    "            template = \"running reward: {:.2f} at episode {}, frame count {}, epsilon {}\"\n",
    "            print(template.format(running_reward, episode_count, timestep_count,epsilon))\n",
    "            plot_x.append(running_reward)\n",
    "            plot_y.append(timestep_count)\n",
    "\n",
    "        # Don't let the memory grow beyond the limit\n",
    "        if len(rewards_history) > max_memory:\n",
    "            del rewards_history[:1]\n",
    "            del state_history[:1]\n",
    "            del state_next_history[:1]\n",
    "            del action_history[:1]\n",
    "            del done_history[:1]\n",
    "        if done: break\n",
    "\n",
    "    # reward of last 100\n",
    "    episode_reward_history.append(episode_reward)\n",
    "    if len(episode_reward_history) > last_n_reward: del episode_reward_history[:1]\n",
    "    running_reward = np.mean(episode_reward_history)\n",
    "\n",
    "    #epsilon = max(0.01, eps_interval*np.exp(-0.005*episode))\n",
    "    #print(epsilon)\n",
    "    episode_count += 1\n",
    "\n",
    "    # If you want to stop your training once you achieve the reward you want you can\n",
    "    # have an if statement here. Alternatively you can stop after a fixed number\n",
    "    # of episodes."
   ]
  },
  {
   "cell_type": "code",
   "execution_count": 6,
   "metadata": {
    "colab": {
     "base_uri": "https://localhost:8080/",
     "height": 279
    },
    "id": "StJsm3T3UU_6",
    "outputId": "4fb5348e-6831-46e5-88ce-b7b7c2c400bf",
    "pycharm": {
     "name": "#%%\n"
    }
   },
   "outputs": [
    {
     "output_type": "display_data",
     "data": {
      "text/plain": [
       "<Figure size 432x288 with 1 Axes>"
      ],
      "image/png": "[encoded data removed]"
     },
     "metadata": {
      "needs_background": "light"
     }
    }
   ],
   "source": [
    "plt.plot(plot_y, plot_x)\n",
    "plt.xlabel('Timestep count')\n",
    "plt.ylabel('Running reward')\n",
    "plt.show()"
   ]
  },
  {
   "cell_type": "markdown",
   "metadata": {
    "id": "Y-kUmOPTiMXX",
    "pycharm": {
     "name": "#%% md\n"
    }
   },
   "source": [
    "Evaluate the performance of the agent on 100 episodes on the environment and print out the average testing performance. Alternatively you can make sure the code above terminates with 100 episodes where there is no exploration at all (epsilon=0)."
   ]
  },
  {
   "cell_type": "code",
   "execution_count": 7,
   "metadata": {
    "id": "xe2V09jdiNXI",
    "colab": {
     "base_uri": "https://localhost:8080/"
    },
    "outputId": "b22ae71d-a4e6-41c0-f95b-ea76982ef750",
    "pycharm": {
     "name": "#%%\n"
    }
   },
   "outputs": [
    {
     "output_type": "stream",
     "name": "stdout",
     "text": [
      "119.01\n"
     ]
    }
   ],
   "source": [
    "# YOUR CODE Here\n",
    "running_reward = 0\n",
    "episode_count = 0\n",
    "timestep_count = 0\n",
    "\n",
    "\n",
    "max_episodes = 100\n",
    "max_steps_per_episode = 1000\n",
    "\n",
    "episode_reward_history = []\n",
    "epsilon = 0.0\n",
    "\n",
    "for episode in range(max_episodes):\n",
    "    state = np.array(env.reset())\n",
    "    episode_reward = 0\n",
    "\n",
    "    frame_count = 0\n",
    "    for timestep in range(1, max_steps_per_episode):\n",
    "        timestep_count += 1\n",
    "\n",
    "        prob = np.random.random()\n",
    "        if prob < epsilon:\n",
    "            action = np.random.choice(actsize)\n",
    "        else:\n",
    "            # Predict action Q-values\n",
    "            # From environment state\n",
    "            state_t = tf.convert_to_tensor(state)\n",
    "            state_t = tf.expand_dims(state_t, 0)\n",
    "            action_vals = model(state_t, training=False)\n",
    "            # Choose the best action\n",
    "            action = tf.argmax(action_vals[0]).numpy()\n",
    "\n",
    "        # follow selected action\n",
    "        state_next, reward, done, _ = env.step(action)\n",
    "        state_next = np.array(state_next)\n",
    "        episode_reward += reward\n",
    "\n",
    "        state = state_next\n",
    "        if done:\n",
    "          break\n",
    "\n",
    "    episode_reward_history.append(episode_reward)\n",
    "\n",
    "print(sum(episode_reward_history)/len(episode_reward_history))"
   ]
  },
  {
   "cell_type": "code",
   "execution_count": 7,
   "metadata": {
    "id": "1AyntwDsnFbl",
    "pycharm": {
     "name": "#%%\n"
    }
   },
   "outputs": [],
   "source": []
  }
 ],
 "metadata": {
  "accelerator": "GPU",
  "colab": {
   "collapsed_sections": [],
   "name": "HW4_DQN_yp2607.ipynb",
   "provenance": []
  },
  "kernelspec": {
   "display_name": "Python 3",
   "name": "python3"
  },
  "language_info": {
   "name": "python"
  }
 },
 "nbformat": 4,
 "nbformat_minor": 0
}