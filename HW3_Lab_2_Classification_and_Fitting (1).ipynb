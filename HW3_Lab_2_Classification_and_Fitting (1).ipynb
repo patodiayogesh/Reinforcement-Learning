{
  "nbformat": 4,
  "nbformat_minor": 0,
  "metadata": {
    "kernelspec": {
      "display_name": "Python3.8",
      "language": "python",
      "name": "python3.8"
    },
    "language_info": {
      "codemirror_mode": {
        "name": "ipython",
        "version": 3
      },
      "file_extension": ".py",
      "mimetype": "text/x-python",
      "name": "python",
      "nbconvert_exporter": "python",
      "pygments_lexer": "ipython3",
      "version": "3.8.9"
    },
    "colab": {
      "name": "HW3_Lab_2_Classification_and_Fitting.ipynb",
      "provenance": [],
      "collapsed_sections": []
    }
  },
  "cells": [
    {
      "cell_type": "markdown",
      "metadata": {
        "id": "jvb58I5MpPlB"
      },
      "source": [
        "# Lab 2 - Classification and Fitting with Neural Networks in Tensorflow\n",
        "\n",
        "\n",
        "In this notebook, you will be introduced to tensorflow. We will\n",
        "\n",
        "-  perform function fitting with neural networks (Part A)\n",
        "-  perform classification on handwritten digits using Tensorflow (Part B)\n",
        "\n",
        "Complete the code where appropriate according to the instructions (see comments)\n",
        "\n",
        "Your are free to tweak the hyper-parameters (including number of hidden units, number of hidden layers, learning rate, num of iterations and so on) to improve the performance of the model. \n",
        "\n",
        "Make sure that your final submission is a notebook that can be run from beginning to end\n",
        "\n",
        "For Part A: You should try to get pretty close to the ground truth function where requested. \n",
        "\n",
        "For Part B: The submitted prediction accuracy on testing set, should be > 60%. It is in fact easy to achieve >95% of the accuracy on this dataset with careful tuning of hyper-parameters. **Your grade will depend on the final prediction accuracy**. "
      ]
    },
    {
      "cell_type": "code",
      "metadata": {
        "id": "qnq3LEr0pPlC"
      },
      "source": [
        "import tensorflow as tf\n",
        "from collections import deque\n",
        "import numpy as np\n",
        "%matplotlib inline\n",
        "import matplotlib\n",
        "import matplotlib.pyplot as plt"
      ],
      "execution_count": 1,
      "outputs": []
    },
    {
      "cell_type": "code",
      "metadata": {
        "id": "vgr0Jg_3pPlD",
        "colab": {
          "base_uri": "https://localhost:8080/",
          "height": 35
        },
        "outputId": "382957c0-dff8-4e38-aa0a-fbe7822d0445"
      },
      "source": [
        "tf.__version__ # Make sure you have version >2"
      ],
      "execution_count": 2,
      "outputs": [
        {
          "output_type": "execute_result",
          "data": {
            "application/vnd.google.colaboratory.intrinsic+json": {
              "type": "string"
            },
            "text/plain": [
              "'2.8.0'"
            ]
          },
          "metadata": {},
          "execution_count": 2
        }
      ]
    },
    {
      "cell_type": "markdown",
      "metadata": {
        "id": "Gzk9NffBpPlE"
      },
      "source": [
        "# Short Experiments with Tensors\n",
        "No Code is necessary in this section"
      ]
    },
    {
      "cell_type": "code",
      "metadata": {
        "id": "kq3PHJ2ApPlF",
        "colab": {
          "base_uri": "https://localhost:8080/"
        },
        "outputId": "984b7350-a978-4a55-df4c-2c444ea703ff"
      },
      "source": [
        "# Let's create a random tensor \n",
        "t = tf.random.uniform([2,3],-1,3)\n",
        "t # t.shape -> (2,3)"
      ],
      "execution_count": 3,
      "outputs": [
        {
          "output_type": "execute_result",
          "data": {
            "text/plain": [
              "<tf.Tensor: shape=(2, 3), dtype=float32, numpy=\n",
              "array([[ 1.6439581 , -0.53451014,  2.9792442 ],\n",
              "       [-0.09752512, -0.19955397,  2.8112226 ]], dtype=float32)>"
            ]
          },
          "metadata": {},
          "execution_count": 3
        }
      ]
    },
    {
      "cell_type": "code",
      "metadata": {
        "id": "EMS0QToTpPlF",
        "colab": {
          "base_uri": "https://localhost:8080/"
        },
        "outputId": "e313acad-0eb1-4902-ab64-16dee960d610"
      },
      "source": [
        "5*(t**2+10) # Tensor arithmetic"
      ],
      "execution_count": 4,
      "outputs": [
        {
          "output_type": "execute_result",
          "data": {
            "text/plain": [
              "<tf.Tensor: shape=(2, 3), dtype=float32, numpy=\n",
              "array([[63.512993, 51.428505, 94.379486],\n",
              "       [50.047554, 50.19911 , 89.51486 ]], dtype=float32)>"
            ]
          },
          "metadata": {},
          "execution_count": 4
        }
      ]
    },
    {
      "cell_type": "code",
      "metadata": {
        "id": "jo16ANQKpPlG",
        "colab": {
          "base_uri": "https://localhost:8080/"
        },
        "outputId": "af3f7f66-9e06-4a05-9b9a-2ca3d7acf7b7"
      },
      "source": [
        "t.numpy() # convert to numpy"
      ],
      "execution_count": 5,
      "outputs": [
        {
          "output_type": "execute_result",
          "data": {
            "text/plain": [
              "array([[ 1.6439581 , -0.53451014,  2.9792442 ],\n",
              "       [-0.09752512, -0.19955397,  2.8112226 ]], dtype=float32)"
            ]
          },
          "metadata": {},
          "execution_count": 5
        }
      ]
    },
    {
      "cell_type": "markdown",
      "metadata": {
        "id": "DSIHd8CgpPlG"
      },
      "source": [
        "# Part A: Function fitting using Neural Networks "
      ]
    },
    {
      "cell_type": "markdown",
      "metadata": {
        "id": "WW40VdJMpPlG"
      },
      "source": [
        "## Fit a Simple Linear Function\n",
        "- No need to change anything in this subsection\n",
        "- Read the code and understand what is happening\n",
        "\n",
        "- In this part you will see how to use tensorflow to implement a simple linear regression "
      ]
    },
    {
      "cell_type": "code",
      "metadata": {
        "id": "moMLZVFApPlH",
        "colab": {
          "base_uri": "https://localhost:8080/",
          "height": 265
        },
        "outputId": "375248e2-de55-4100-8e2b-a386fabe8256"
      },
      "source": [
        "# No code changes are necessary here but feel free to experiment\n",
        "true_a = 1.13\n",
        "true_b = 2.3\n",
        "datapoints =  1000\n",
        "noise_intensity = 0.1\n",
        "data_x = (np.arange(datapoints) / (datapoints) - .5).astype(np.float32) # Chainer assumes all the cpu computation is done in float32\n",
        "data_y = (data_x * true_a + true_b + np.random.randn(*data_x.shape) * noise_intensity).astype(np.float32)\n",
        "_ = plt.scatter(data_x, data_y, c='b')"
      ],
      "execution_count": 6,
      "outputs": [
        {
          "output_type": "display_data",
          "data": {
            "image/png": "[encoded data removed]",
            "text/plain": [
              "<Figure size 432x288 with 1 Axes>"
            ]
          },
          "metadata": {
            "needs_background": "light"
          }
        }
      ]
    },
    {
      "cell_type": "code",
      "metadata": {
        "id": "03_9nBlapPlI"
      },
      "source": [
        "from tensorflow.keras import Input\n",
        "from tensorflow.keras import layers,Model\n",
        "\n",
        "model = tf.keras.Sequential()\n",
        "model.add(layers.Dense(1,input_shape=[1])) # no activation function here"
      ],
      "execution_count": 7,
      "outputs": []
    },
    {
      "cell_type": "code",
      "metadata": {
        "id": "llx5CxtLpPlI"
      },
      "source": [
        "model.compile(optimizer=\"Adam\", loss=\"mse\")\n",
        "# NOTE during your experimentation you can use verbose=1 or 2, but for final result you can use verbose=0\n",
        "history = model.fit(data_x,data_y,epochs=250,verbose=0) "
      ],
      "execution_count": 8,
      "outputs": []
    },
    {
      "cell_type": "code",
      "metadata": {
        "id": "BnLzLPAxpPlI",
        "colab": {
          "base_uri": "https://localhost:8080/"
        },
        "outputId": "546f4520-67e1-4e07-b614-319ffbe41fd3"
      },
      "source": [
        "model.layers # Observe the layers"
      ],
      "execution_count": 9,
      "outputs": [
        {
          "output_type": "execute_result",
          "data": {
            "text/plain": [
              "[<keras.layers.core.dense.Dense at 0x7f0feb1562d0>]"
            ]
          },
          "metadata": {},
          "execution_count": 9
        }
      ]
    },
    {
      "cell_type": "code",
      "metadata": {
        "id": "hPwcNclZpPlJ",
        "colab": {
          "base_uri": "https://localhost:8080/"
        },
        "outputId": "8334e17a-7f33-4243-87a6-e89b9823f2ad"
      },
      "source": [
        "model.layers[0].weights # Observe the weights learned"
      ],
      "execution_count": 10,
      "outputs": [
        {
          "output_type": "execute_result",
          "data": {
            "text/plain": [
              "[<tf.Variable 'dense/kernel:0' shape=(1, 1) dtype=float32, numpy=array([[1.1206073]], dtype=float32)>,\n",
              " <tf.Variable 'dense/bias:0' shape=(1,) dtype=float32, numpy=array([2.3042548], dtype=float32)>]"
            ]
          },
          "metadata": {},
          "execution_count": 10
        }
      ]
    },
    {
      "cell_type": "code",
      "metadata": {
        "id": "Lb_KOAOxpPlJ",
        "colab": {
          "base_uri": "https://localhost:8080/",
          "height": 283
        },
        "outputId": "d4a1cfab-fc92-4ac6-8839-6aff84de4b25"
      },
      "source": [
        "plt.scatter(data_x, data_y, c='b')\n",
        "plt.plot(data_x, model.predict(data_x).T[0],c='r')"
      ],
      "execution_count": 11,
      "outputs": [
        {
          "output_type": "execute_result",
          "data": {
            "text/plain": [
              "[<matplotlib.lines.Line2D at 0x7f0fe8a57a90>]"
            ]
          },
          "metadata": {},
          "execution_count": 11
        },
        {
          "output_type": "display_data",
          "data": {
            "image/png": "[encoded data removed]",
            "text/plain": [
              "<Figure size 432x288 with 1 Axes>"
            ]
          },
          "metadata": {
            "needs_background": "light"
          }
        }
      ]
    },
    {
      "cell_type": "markdown",
      "metadata": {
        "id": "pOm6rJ0LpPlK"
      },
      "source": [
        "## Fit a nonlinear function using Neural Networks \n",
        "\n",
        "- In this part you will write code that fits the dataset below.\n",
        "- The ground truth is a sinusoidal function but there is noise added\n",
        "- you should implement a slightly more complicated model than before. "
      ]
    },
    {
      "cell_type": "code",
      "metadata": {
        "id": "aOxaA14mpPlK",
        "colab": {
          "base_uri": "https://localhost:8080/",
          "height": 265
        },
        "outputId": "cea0dd8a-eeea-4a50-885c-bd6c02a07d30"
      },
      "source": [
        "# no need to change anything here\n",
        "# this generates the data\n",
        "freq = 10\n",
        "noise_intensity = 0.4\n",
        "data_y2 = ( np.sin(freq*data_x) * true_a + true_b + np.random.randn(*data_x.shape) * noise_intensity).astype(np.float32)\n",
        "_ = plt.scatter(data_x, data_y2, c='b')"
      ],
      "execution_count": 12,
      "outputs": [
        {
          "output_type": "display_data",
          "data": {
            "image/png": "[encoded data removed]",
            "text/plain": [
              "<Figure size 432x288 with 1 Axes>"
            ]
          },
          "metadata": {
            "needs_background": "light"
          }
        }
      ]
    },
    {
      "cell_type": "markdown",
      "metadata": {
        "id": "dXAg9qgv5xxM"
      },
      "source": [
        "- implement the neural network model in the following cell\n",
        "- to do that you can experiment with various methods. You can try to put more than one layers. Experiment with the number of parameters per layer as well. \n",
        "- you will need to use some activation function to introduce nonlinearity in your neural network. \n",
        "- to introduce nonlinearity you can use the parameter activation=\"relu\" in a Dense layer for example. There are other activation functions you can try as well"
      ]
    },
    {
      "cell_type": "code",
      "metadata": {
        "id": "Hfj2uzxGpPlL"
      },
      "source": [
        "# TODO Make a nonlinear model to fit the nonlinear function\n",
        "\n",
        "model = tf.keras.Sequential() \n",
        "model.add(layers.Dense(16,activation=\"relu\",input_shape=[1]))\n",
        "model.add(layers.Dense(32,activation=\"relu\",input_shape=[16]))\n",
        "model.add(layers.Dense(1,input_shape=[32]))\n",
        "model.compile(optimizer=\"Adam\", loss=\"mse\")"
      ],
      "execution_count": 42,
      "outputs": []
    },
    {
      "cell_type": "code",
      "metadata": {
        "id": "0f7nkthDpPlL"
      },
      "source": [
        "history = model.fit(data_x,data_y2,epochs=250,verbose=0) # fit your model"
      ],
      "execution_count": 43,
      "outputs": []
    },
    {
      "cell_type": "code",
      "metadata": {
        "id": "lMr5I_anpPlL",
        "colab": {
          "base_uri": "https://localhost:8080/"
        },
        "outputId": "645d01da-7f24-4836-93e5-f4bc9b57bbae"
      },
      "source": [
        "model.layers # Notice how many dense layers we have now"
      ],
      "execution_count": 44,
      "outputs": [
        {
          "output_type": "execute_result",
          "data": {
            "text/plain": [
              "[<keras.layers.core.dense.Dense at 0x7f0fe6266fd0>,\n",
              " <keras.layers.core.dense.Dense at 0x7f0fe62666d0>,\n",
              " <keras.layers.core.dense.Dense at 0x7f0fe62de6d0>]"
            ]
          },
          "metadata": {},
          "execution_count": 44
        }
      ]
    },
    {
      "cell_type": "code",
      "metadata": {
        "id": "C7RrfeCZpPlL",
        "colab": {
          "base_uri": "https://localhost:8080/",
          "height": 283
        },
        "outputId": "bc612ab4-4180-4e20-c2b6-43ab6a5315bc"
      },
      "source": [
        "# overlay answer and data\n",
        "# NOTE: your result should be close to the ground truth function (sinusoidal function)\n",
        "plt.scatter(data_x, data_y2, c='b')\n",
        "plt.plot(data_x, model.predict(data_x).T[0],c='r')  "
      ],
      "execution_count": 45,
      "outputs": [
        {
          "output_type": "execute_result",
          "data": {
            "text/plain": [
              "[<matplotlib.lines.Line2D at 0x7f0fe60dce50>]"
            ]
          },
          "metadata": {},
          "execution_count": 45
        },
        {
          "output_type": "display_data",
          "data": {
            "image/png": "[encoded data removed]",
            "text/plain": [
              "<Figure size 432x288 with 1 Axes>"
            ]
          },
          "metadata": {
            "needs_background": "light"
          }
        }
      ]
    },
    {
      "cell_type": "code",
      "metadata": {
        "id": "GGNI_g1SpPlM",
        "colab": {
          "base_uri": "https://localhost:8080/",
          "height": 283
        },
        "outputId": "3114badb-4d82-4ae3-abc6-7af6cddb7baf"
      },
      "source": [
        "# How does your model extrapolate? \n",
        "# -> It's okay if it doesn't extrapolate\n",
        "plt.scatter(data_x, data_y2, c='b')\n",
        "plt.plot(data_x-1, model.predict(data_x-1).T[0],c='r') \n",
        "plt.plot(data_x, model.predict(data_x).T[0],c='r') \n",
        "plt.plot(data_x+1, model.predict(data_x+1).T[0],c='r') "
      ],
      "execution_count": 40,
      "outputs": [
        {
          "output_type": "execute_result",
          "data": {
            "text/plain": [
              "[<matplotlib.lines.Line2D at 0x7f0fe6232150>]"
            ]
          },
          "metadata": {},
          "execution_count": 40
        },
        {
          "output_type": "display_data",
          "data": {
            "image/png": "[encoded data removed]",
            "text/plain": [
              "<Figure size 432x288 with 1 Axes>"
            ]
          },
          "metadata": {
            "needs_background": "light"
          }
        }
      ]
    },
    {
      "cell_type": "code",
      "metadata": {
        "id": "BrGe48r3pPlM"
      },
      "source": [
        "# OPTIONAL Question \n",
        "# - Create your dataset based on teh function of your choice (logarithmic, root, exponential etc)\n",
        "# - Your dataset for X can be different than a uniform grid, say for example uniform distribution, normal distribution etc\n",
        "# - does your model interpolate well? does it extrapolate well?"
      ],
      "execution_count": null,
      "outputs": []
    },
    {
      "cell_type": "markdown",
      "metadata": {
        "id": "eA6ZwVFnpPlM"
      },
      "source": [
        "# Part B: Classification using Neural Networks\n",
        "\n",
        "In this part we build a model for image classification. \n",
        "We will use the MNIST hand written digit dataset, which is a toy benchmark for image\n",
        "classification models. First load the dataset via TensorFlow API."
      ]
    },
    {
      "cell_type": "markdown",
      "metadata": {
        "id": "f6z0hsnHpPlM"
      },
      "source": [
        "Here $X_{train},Y_{train}$ denote the training data and $X_{test},Y_{test}$ denote the testing data. We train the model on training set and evaluate its performance on testing set (to evaluate potential under-fitting or over-fitting). As can be seen below, $X_{train}$ contains a lot of examples with $28 \\times 28 $ pixels. $Y_{train}$ contains the corresponding labels (i.e. the $10$ classes). "
      ]
    },
    {
      "cell_type": "code",
      "metadata": {
        "id": "nbZQ4jATpPlN",
        "colab": {
          "base_uri": "https://localhost:8080/"
        },
        "outputId": "91c77477-cc89-40a5-dc9c-2b7e0c205ccc"
      },
      "source": [
        "mnist = tf.keras.datasets.mnist.load_data(path=\"mnist.npz\") # Dataset"
      ],
      "execution_count": 46,
      "outputs": [
        {
          "output_type": "stream",
          "name": "stdout",
          "text": [
            "Downloading data from https://storage.googleapis.com/tensorflow/tf-keras-datasets/mnist.npz\n",
            "11493376/11490434 [==============================] - 0s 0us/step\n",
            "11501568/11490434 [==============================] - 0s 0us/step\n"
          ]
        }
      ]
    },
    {
      "cell_type": "code",
      "metadata": {
        "id": "HG9m1MbbpPlN"
      },
      "source": [
        "(X_train, Y_train), (X_test, Y_test) = tf.keras.datasets.mnist.load_data()\n",
        "(X_train, Y_train), (X_test, Y_test) = tf.keras.datasets.mnist.load_data()"
      ],
      "execution_count": 47,
      "outputs": []
    },
    {
      "cell_type": "code",
      "metadata": {
        "id": "1qgwdC40pPlN"
      },
      "source": [
        "X_train = X_train/255.0 # Normalize your data\n",
        "X_test  = X_test/255.0 "
      ],
      "execution_count": 48,
      "outputs": []
    },
    {
      "cell_type": "code",
      "metadata": {
        "id": "Ab51xfarpPlO",
        "colab": {
          "base_uri": "https://localhost:8080/",
          "height": 283
        },
        "outputId": "063dda8c-7bad-4f6a-9230-0b65bfb8d485"
      },
      "source": [
        "# Print an image and its label\n",
        "plt.imshow(X_train[0])\n",
        "print(Y_train[0])"
      ],
      "execution_count": 49,
      "outputs": [
        {
          "output_type": "stream",
          "name": "stdout",
          "text": [
            "5\n"
          ]
        },
        {
          "output_type": "display_data",
          "data": {
            "image/png": "[encoded data removed]",
            "text/plain": [
              "<Figure size 432x288 with 1 Axes>"
            ]
          },
          "metadata": {
            "needs_background": "light"
          }
        }
      ]
    },
    {
      "cell_type": "code",
      "metadata": {
        "id": "vr93nLsCpPlO",
        "colab": {
          "base_uri": "https://localhost:8080/"
        },
        "outputId": "8105d3ff-5287-4022-db12-fbfa714907da"
      },
      "source": [
        "# TODO: Create a simple Model to predict the label of a digit with one dense layer\n",
        "\n",
        "model = tf.keras.Sequential()\n",
        "model.add(layers.Flatten(input_shape=[28,28]))\n",
        "model.add(layers.Dense(10,activation='softmax',input_shape=[28*28]))\n",
        "model.compile(optimizer=\"Adam\", loss=\"sparse_categorical_crossentropy\",metrics=['accuracy'])\n",
        "history = model.fit(X_train,Y_train, epochs=10)"
      ],
      "execution_count": 54,
      "outputs": [
        {
          "output_type": "stream",
          "name": "stdout",
          "text": [
            "Epoch 1/10\n",
            "1875/1875 [==============================] - 6s 3ms/step - loss: 0.4729 - accuracy: 0.8757\n",
            "Epoch 2/10\n",
            "1875/1875 [==============================] - 3s 2ms/step - loss: 0.3040 - accuracy: 0.9143\n",
            "Epoch 3/10\n",
            "1875/1875 [==============================] - 3s 2ms/step - loss: 0.2835 - accuracy: 0.9198\n",
            "Epoch 4/10\n",
            "1875/1875 [==============================] - 4s 2ms/step - loss: 0.2729 - accuracy: 0.9239\n",
            "Epoch 5/10\n",
            "1875/1875 [==============================] - 3s 2ms/step - loss: 0.2666 - accuracy: 0.9260\n",
            "Epoch 6/10\n",
            "1875/1875 [==============================] - 3s 2ms/step - loss: 0.2622 - accuracy: 0.9269\n",
            "Epoch 7/10\n",
            "1875/1875 [==============================] - 3s 2ms/step - loss: 0.2582 - accuracy: 0.9286\n",
            "Epoch 8/10\n",
            "1875/1875 [==============================] - 3s 2ms/step - loss: 0.2556 - accuracy: 0.9297\n",
            "Epoch 9/10\n",
            "1875/1875 [==============================] - 3s 2ms/step - loss: 0.2530 - accuracy: 0.9298\n",
            "Epoch 10/10\n",
            "1875/1875 [==============================] - 3s 2ms/step - loss: 0.2511 - accuracy: 0.9301\n"
          ]
        }
      ]
    },
    {
      "cell_type": "code",
      "metadata": {
        "id": "GyPfbD6epPlP",
        "colab": {
          "base_uri": "https://localhost:8080/"
        },
        "outputId": "cd72e2d8-708e-4a1f-f2c8-d6e411910b81"
      },
      "source": [
        "model.evaluate(X_test,Y_test) # Evaluate your results"
      ],
      "execution_count": 55,
      "outputs": [
        {
          "output_type": "stream",
          "name": "stdout",
          "text": [
            "313/313 [==============================] - 1s 2ms/step - loss: 0.2656 - accuracy: 0.9267\n"
          ]
        },
        {
          "output_type": "execute_result",
          "data": {
            "text/plain": [
              "[0.2655634880065918, 0.9266999959945679]"
            ]
          },
          "metadata": {},
          "execution_count": 55
        }
      ]
    },
    {
      "cell_type": "code",
      "metadata": {
        "id": "0CUP8g2bpPlP",
        "colab": {
          "base_uri": "https://localhost:8080/"
        },
        "outputId": "45838a49-b492-4a1b-8101-6039f8b5cacc"
      },
      "source": [
        "# TODO: Create a more complicated model with more than one layers\n",
        "# and evaluate your model on the test set\n",
        "# try to improve the performance compared to the previous model\n",
        "\n",
        "model = tf.keras.Sequential()\n",
        "model.add(layers.Flatten(input_shape=[28,28]))\n",
        "model.add(layers.Dense(256,activation='relu'))\n",
        "model.add(layers.Dense(10,activation='softmax'))\n",
        "model.compile(optimizer=\"Adam\", loss=\"sparse_categorical_crossentropy\",metrics=['accuracy'])\n",
        "history = model.fit(X_train,Y_train, epochs=10)\n",
        "model.evaluate(X_test,Y_test)"
      ],
      "execution_count": 56,
      "outputs": [
        {
          "output_type": "stream",
          "name": "stdout",
          "text": [
            "Epoch 1/10\n",
            "1875/1875 [==============================] - 7s 3ms/step - loss: 0.2274 - accuracy: 0.9336\n",
            "Epoch 2/10\n",
            "1875/1875 [==============================] - 7s 3ms/step - loss: 0.0930 - accuracy: 0.9726\n",
            "Epoch 3/10\n",
            "1875/1875 [==============================] - 9s 5ms/step - loss: 0.0617 - accuracy: 0.9803\n",
            "Epoch 4/10\n",
            "1875/1875 [==============================] - 6s 3ms/step - loss: 0.0434 - accuracy: 0.9862\n",
            "Epoch 5/10\n",
            "1875/1875 [==============================] - 7s 3ms/step - loss: 0.0326 - accuracy: 0.9898\n",
            "Epoch 6/10\n",
            "1875/1875 [==============================] - 7s 4ms/step - loss: 0.0251 - accuracy: 0.9921\n",
            "Epoch 7/10\n",
            "1875/1875 [==============================] - 7s 4ms/step - loss: 0.0194 - accuracy: 0.9940\n",
            "Epoch 8/10\n",
            "1875/1875 [==============================] - 7s 4ms/step - loss: 0.0155 - accuracy: 0.9952\n",
            "Epoch 9/10\n",
            "1875/1875 [==============================] - 6s 3ms/step - loss: 0.0136 - accuracy: 0.9955\n",
            "Epoch 10/10\n",
            "1875/1875 [==============================] - 6s 3ms/step - loss: 0.0105 - accuracy: 0.9968\n"
          ]
        }
      ]
    },
    {
      "cell_type": "code",
      "source": [
        "model.evaluate(X_test,Y_test)"
      ],
      "metadata": {
        "colab": {
          "base_uri": "https://localhost:8080/"
        },
        "id": "Iol-bhq-2Bfz",
        "outputId": "6fb38c03-1072-473d-c197-ebe2d138bd2a"
      },
      "execution_count": 57,
      "outputs": [
        {
          "output_type": "stream",
          "name": "stdout",
          "text": [
            "313/313 [==============================] - 1s 2ms/step - loss: 0.0779 - accuracy: 0.9804\n"
          ]
        },
        {
          "output_type": "execute_result",
          "data": {
            "text/plain": [
              "[0.07790808379650116, 0.980400025844574]"
            ]
          },
          "metadata": {},
          "execution_count": 57
        }
      ]
    },
    {
      "cell_type": "code",
      "metadata": {
        "id": "ovu8ZRqQpPlP"
      },
      "source": [
        "# Optional question\n",
        "# Identify digits that your model mispredicts, and display them. "
      ],
      "execution_count": null,
      "outputs": []
    }
  ]
}